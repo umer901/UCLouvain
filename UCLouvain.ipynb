{
  "nbformat": 4,
  "nbformat_minor": 0,
  "metadata": {
    "colab": {
      "provenance": []
    },
    "kernelspec": {
      "name": "python3",
      "display_name": "Python 3"
    },
    "language_info": {
      "name": "python"
    }
  },
  "cells": [
    {
      "cell_type": "markdown",
      "source": [
        "#Q1. Adjacency Matrix to Adjacency List"
      ],
      "metadata": {
        "id": "gFLuOhQpEbXQ"
      }
    },
    {
      "cell_type": "code",
      "execution_count": 1,
      "metadata": {
        "id": "79QCma79EYfY"
      },
      "outputs": [],
      "source": [
        "def mat_to_list(adj_mat):\n",
        "    \"\"\" Convert adjacency matrix to an adjacency list representation\n",
        "\n",
        "    Parameters:\n",
        "    -----------\n",
        "    adj_mat : (a square 0-1 matrix)\n",
        "        Adjacency matrix (n x n) of the graph (of n nodes)\n",
        "\n",
        "\n",
        "    Returns:\n",
        "    --------\n",
        "     adj_list: `list[list[int]]`\n",
        "        The adjacency list of the graph\n",
        "\n",
        "    \"\"\"\n",
        "    # TODO\n",
        "\n",
        "    adj_list = []\n",
        "\n",
        "    for i in range(len(adj_mat)):\n",
        "        adjacents = []\n",
        "        for j in range(len(adj_mat[i])):\n",
        "            if adj_mat[i][j] == 1:\n",
        "                adjacents.append(j)\n",
        "        adj_list.append(adjacents)\n",
        "\n",
        "\n",
        "    return adj_list"
      ]
    },
    {
      "cell_type": "markdown",
      "source": [
        "Given Example:"
      ],
      "metadata": {
        "id": "jje4UNy1Lf-9"
      }
    },
    {
      "cell_type": "code",
      "source": [
        "adj_mat =   [[0, 1, 0, 1, 0, 0],\n",
        "             [0, 0, 1, 0, 0, 0],\n",
        "             [1, 0, 0, 0, 0, 0],\n",
        "             [0, 0, 0, 0, 1, 0],\n",
        "             [0, 0, 0, 1, 0, 0],\n",
        "             [0, 0, 0, 0, 0, 0]]\n",
        "\n",
        "print('Adjacency Matrix: ')\n",
        "print(adj_mat)\n",
        "print('Adjacency List: ')\n",
        "print(mat_to_list(adj_mat))"
      ],
      "metadata": {
        "colab": {
          "base_uri": "https://localhost:8080/"
        },
        "id": "-T8ted8yFcOY",
        "outputId": "46c1ae37-8521-4882-85f2-db734c4f828b"
      },
      "execution_count": 5,
      "outputs": [
        {
          "output_type": "stream",
          "name": "stdout",
          "text": [
            "Adjacency Matrix: \n",
            "[[0, 1, 0, 1, 0, 0], [0, 0, 1, 0, 0, 0], [1, 0, 0, 0, 0, 0], [0, 0, 0, 0, 1, 0], [0, 0, 0, 1, 0, 0], [0, 0, 0, 0, 0, 0]]\n",
            "Adjacency List: \n",
            "[[1, 3], [2], [0], [4], [3], []]\n"
          ]
        }
      ]
    },
    {
      "cell_type": "markdown",
      "source": [
        "Empty Matrix"
      ],
      "metadata": {
        "id": "hR09D_aXLqVY"
      }
    },
    {
      "cell_type": "code",
      "source": [
        "adj_mat = []\n",
        "\n",
        "print('Adjacency Matrix: ')\n",
        "print(adj_mat)\n",
        "print('Adjacency List: ')\n",
        "print(mat_to_list(adj_mat))"
      ],
      "metadata": {
        "colab": {
          "base_uri": "https://localhost:8080/"
        },
        "id": "qhG6NX2AKNub",
        "outputId": "7d430ee5-c50d-4340-8370-99e9d60650c4"
      },
      "execution_count": 11,
      "outputs": [
        {
          "output_type": "stream",
          "name": "stdout",
          "text": [
            "Adjacency Matrix: \n",
            "[]\n",
            "Adjacency List: \n",
            "[]\n"
          ]
        }
      ]
    },
    {
      "cell_type": "markdown",
      "source": [
        "Single Node"
      ],
      "metadata": {
        "id": "JHABYFoPLs_V"
      }
    },
    {
      "cell_type": "code",
      "source": [
        "adj_mat = [[0]]\n",
        "\n",
        "print('Adjacency Matrix: ')\n",
        "print(adj_mat)\n",
        "print('Adjacency List: ')\n",
        "print(mat_to_list(adj_mat))"
      ],
      "metadata": {
        "colab": {
          "base_uri": "https://localhost:8080/"
        },
        "id": "vPvaZFX7KZZk",
        "outputId": "07537dc5-7739-41b1-8793-a9d8ee9932a5"
      },
      "execution_count": 12,
      "outputs": [
        {
          "output_type": "stream",
          "name": "stdout",
          "text": [
            "Adjacency Matrix: \n",
            "[[0]]\n",
            "Adjacency List: \n",
            "[[]]\n"
          ]
        }
      ]
    },
    {
      "cell_type": "markdown",
      "source": [
        "Disconnected Nodes"
      ],
      "metadata": {
        "id": "Lq9nRfwvLx6I"
      }
    },
    {
      "cell_type": "code",
      "source": [
        "adj_mat = [[0, 0, 0],[0, 0, 0],[0, 0, 0]]\n",
        "\n",
        "print('Adjacency Matrix: ')\n",
        "print(adj_mat)\n",
        "print('Adjacency List: ')\n",
        "print(mat_to_list(adj_mat))"
      ],
      "metadata": {
        "colab": {
          "base_uri": "https://localhost:8080/"
        },
        "id": "ES_Yp1eYLH8H",
        "outputId": "7b382455-485d-4d39-f89f-0678f978d21e"
      },
      "execution_count": 13,
      "outputs": [
        {
          "output_type": "stream",
          "name": "stdout",
          "text": [
            "Adjacency Matrix: \n",
            "[[0, 0, 0], [0, 0, 0], [0, 0, 0]]\n",
            "Adjacency List: \n",
            "[[], [], []]\n"
          ]
        }
      ]
    },
    {
      "cell_type": "markdown",
      "source": [
        "#Q1. Reachable Nodes"
      ],
      "metadata": {
        "id": "p9GGnIwoGc1t"
      }
    },
    {
      "cell_type": "code",
      "source": [
        "def reachable(adj_list, start_node):\n",
        "    \"\"\" Compute the nodes reachable from a start node\n",
        "\n",
        "    For the above example, reachable([[1, 3], [2], [0], [4], [3], []], 0)) must return {0, 1, 2, 3, 4}\n",
        "    and reachable([[1, 3], [2], [0], [4], [3], []], 3) must return {3, 4}\n",
        "\n",
        "    Parameters:\n",
        "    -----------\n",
        "    adj_list : the adjacency list of the graph\n",
        "    start_node: the index of the start node\n",
        "\n",
        "    Returns:\n",
        "    --------\n",
        "    reachable: set(int) the set of nodes reachable from start_node\n",
        "\n",
        "\n",
        "    \"\"\"\n",
        "    # TODO\n",
        "\n",
        "    #BFS approach\n",
        "    n = len(adj_list)\n",
        "    stack = [start_node]\n",
        "    visited = set()\n",
        "\n",
        "    while stack:\n",
        "        node = stack.pop()\n",
        "\n",
        "        if node not in visited:\n",
        "            visited.add(node)\n",
        "            for adjacents in adj_list[node]:\n",
        "                if adjacents not in visited:\n",
        "                    stack.append(adjacents)\n",
        "\n",
        "    return visited"
      ],
      "metadata": {
        "id": "HFnANyGXHBKg"
      },
      "execution_count": 15,
      "outputs": []
    },
    {
      "cell_type": "markdown",
      "source": [
        "Given Examples:"
      ],
      "metadata": {
        "id": "3AkkUdBvNA-g"
      }
    },
    {
      "cell_type": "code",
      "source": [
        "adj_list = [[1, 3], [2], [0], [4], [3], []]\n",
        "print('Adjacency List: ')\n",
        "print(adj_list)\n",
        "print('Reachable nodes: ')\n",
        "print(reachable(adj_list, 0))"
      ],
      "metadata": {
        "colab": {
          "base_uri": "https://localhost:8080/"
        },
        "id": "3O47kAicHF-S",
        "outputId": "29f9dbb4-293f-43e6-94e8-23c9f945c4d2"
      },
      "execution_count": 8,
      "outputs": [
        {
          "output_type": "stream",
          "name": "stdout",
          "text": [
            "Adjacency List: \n",
            "[[1, 3], [2], [0], [4], [3], []]\n",
            "Reachable nodes: \n",
            "{0, 1, 2, 3, 4}\n"
          ]
        }
      ]
    },
    {
      "cell_type": "code",
      "source": [
        "adj_list = [[1, 3], [2], [0], [4], [3], []]\n",
        "print('Adjacency List: ')\n",
        "print(adj_list)\n",
        "print('Reachable nodes: ')\n",
        "print(reachable(adj_list, 3))"
      ],
      "metadata": {
        "colab": {
          "base_uri": "https://localhost:8080/"
        },
        "id": "lqH8XY5aIbge",
        "outputId": "73fa04a6-5edb-4d4e-e84c-ed956ee4af27"
      },
      "execution_count": 10,
      "outputs": [
        {
          "output_type": "stream",
          "name": "stdout",
          "text": [
            "Adjacency List: \n",
            "[[1, 3], [2], [0], [4], [3], []]\n",
            "Reachable nodes: \n",
            "{3, 4}\n"
          ]
        }
      ]
    },
    {
      "cell_type": "markdown",
      "source": [
        "Single Node"
      ],
      "metadata": {
        "id": "nHpiLWr7NETw"
      }
    },
    {
      "cell_type": "code",
      "source": [
        "adj_list = [[]]\n",
        "print('Adjacency List: ')\n",
        "print(adj_list)\n",
        "print('Reachable nodes: ')\n",
        "print(reachable(adj_list, 0))"
      ],
      "metadata": {
        "colab": {
          "base_uri": "https://localhost:8080/"
        },
        "id": "BO85JpDmMHHI",
        "outputId": "bd11572a-7f8a-4f3b-b343-d33c7864e545"
      },
      "execution_count": 17,
      "outputs": [
        {
          "output_type": "stream",
          "name": "stdout",
          "text": [
            "Adjacency List: \n",
            "[[]]\n",
            "Reachable nodes: \n",
            "{0}\n"
          ]
        }
      ]
    },
    {
      "cell_type": "markdown",
      "source": [
        "Disconnected Graph"
      ],
      "metadata": {
        "id": "FDuOKLi8NVn6"
      }
    },
    {
      "cell_type": "code",
      "source": [
        "adj_list = [[], [], []]\n",
        "print('Adjacency List: ')\n",
        "print(adj_list)\n",
        "print('Reachable nodes: ')\n",
        "print(reachable(adj_list, 1))"
      ],
      "metadata": {
        "colab": {
          "base_uri": "https://localhost:8080/"
        },
        "id": "7gaR7idSMWhx",
        "outputId": "c36fc8a4-92a3-40be-fc5e-9564731ae3ff"
      },
      "execution_count": 19,
      "outputs": [
        {
          "output_type": "stream",
          "name": "stdout",
          "text": [
            "Adjacency List: \n",
            "[[], [], []]\n",
            "Reachable nodes: \n",
            "{1}\n"
          ]
        }
      ]
    },
    {
      "cell_type": "markdown",
      "source": [
        "Cyclic Graph"
      ],
      "metadata": {
        "id": "sD8Jgb5FNdj2"
      }
    },
    {
      "cell_type": "code",
      "source": [
        "adj_list = [[1], [2], [0]]\n",
        "print('Adjacency List: ')\n",
        "print(adj_list)\n",
        "print('Reachable nodes: ')\n",
        "print(reachable(adj_list, 0))"
      ],
      "metadata": {
        "colab": {
          "base_uri": "https://localhost:8080/"
        },
        "id": "gEYLJD-RMW5o",
        "outputId": "443087cd-a605-45b8-ef27-700e1429082c"
      },
      "execution_count": 20,
      "outputs": [
        {
          "output_type": "stream",
          "name": "stdout",
          "text": [
            "Adjacency List: \n",
            "[[1], [2], [0]]\n",
            "Reachable nodes: \n",
            "{0, 1, 2}\n"
          ]
        }
      ]
    },
    {
      "cell_type": "markdown",
      "source": [
        "All Nodes Reachable"
      ],
      "metadata": {
        "id": "6I-mHrvQNhV6"
      }
    },
    {
      "cell_type": "code",
      "source": [
        "adj_list = [[1, 2],[3],[3],[]]\n",
        "print('Adjacency List: ')\n",
        "print(adj_list)\n",
        "print('Reachable nodes: ')\n",
        "print(reachable(adj_list, 0))"
      ],
      "metadata": {
        "colab": {
          "base_uri": "https://localhost:8080/"
        },
        "id": "Csq0GDaqM0iw",
        "outputId": "6907906e-cd43-4918-fc28-a72bb1ea6ec3"
      },
      "execution_count": 21,
      "outputs": [
        {
          "output_type": "stream",
          "name": "stdout",
          "text": [
            "Adjacency List: \n",
            "[[1, 2], [3], [3], []]\n",
            "Reachable nodes: \n",
            "{0, 1, 2, 3}\n"
          ]
        }
      ]
    }
  ]
}